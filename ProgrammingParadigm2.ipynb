{
  "nbformat": 4,
  "nbformat_minor": 0,
  "metadata": {
    "colab": {
      "provenance": []
    },
    "kernelspec": {
      "name": "python3",
      "display_name": "Python 3"
    },
    "language_info": {
      "name": "python"
    }
  },
  "cells": [
    {
      "cell_type": "code",
      "execution_count": 4,
      "metadata": {
        "id": "sMsLdGb0MccW"
      },
      "outputs": [],
      "source": [
        "import pandas as pd"
      ]
    },
    {
      "cell_type": "code",
      "source": [
        "# Function to read CSV and extract data\n",
        "def read_and_extract_data(file_path):\n",
        "    # Read CSV file\n",
        "    df = pd.read_csv(file_path)\n",
        "\n",
        "    # Extract relevant columns\n",
        "    usernames = df['username']\n",
        "    emails = df['email']\n",
        "\n",
        "    return usernames, emails\n",
        "\n",
        "# Function to process data\n",
        "def process_data(usernames, emails):\n",
        "    # Count number of users\n",
        "    user_count = len(usernames)\n",
        "\n",
        "    # Analyze email domains\n",
        "    domain_counts = emails.str.split('@').str[1].value_counts()\n",
        "\n",
        "    return user_count, domain_counts\n",
        "\n",
        "# Function to generate report\n",
        "def generate_report(user_count, domain_counts, report_path):\n",
        "    with open(report_path, 'w') as file:\n",
        "        file.write(f\"Total number of users: {user_count}\\n\")\n",
        "        file.write(\"\\nEmail domain distribution:\\n\")\n",
        "        for domain, count in domain_counts.items():\n",
        "            file.write(f\"{domain}: {count}\\n\")\n",
        "\n",
        "# Function to summarize the information\n",
        "def summarize_report(input_csv, report_path):\n",
        "    usernames, emails = read_and_extract_data(input_csv)\n",
        "    user_count, domain_counts = process_data(usernames, emails)\n",
        "    generate_report(user_count, domain_counts, report_path)\n",
        "    print(f\"Report for {input_csv} generated successfully!\")"
      ],
      "metadata": {
        "id": "YI-vY3EgO6MJ"
      },
      "execution_count": 5,
      "outputs": []
    },
    {
      "cell_type": "code",
      "source": [
        "# Main execution\n",
        "if __name__ == \"__main__\":\n",
        "    import os\n",
        "\n",
        "    # Prompt the user to input the path of the CSV file\n",
        "    input_csv = input(\"Please enter the path to the CSV file: \")\n",
        "\n",
        "    # Check if the file exists\n",
        "    if not os.path.isfile(input_csv):\n",
        "        print(\"The file does not exist. Please check the file path and try again.\")\n",
        "    else:\n",
        "        # Define the report file name\n",
        "        report_file = input_csv.replace('.csv', '_report.txt')\n",
        "\n",
        "        # Generate the report\n",
        "        summarize_report(input_csv, report_file)\n",
        "\n",
        "        # Verify contents of the generated report\n",
        "        with open(report_file, 'r') as file:\n",
        "            print(\"-------------------\")\n",
        "            print(f\"Contents of {report_file}:\")\n",
        "            print(file.read())\n",
        "            print(\"-------------------\")"
      ],
      "metadata": {
        "colab": {
          "base_uri": "https://localhost:8080/"
        },
        "id": "oz0spbIdP5on",
        "outputId": "c7d1162a-0eac-42d7-a92e-12f80cb43cf1"
      },
      "execution_count": 6,
      "outputs": [
        {
          "output_type": "stream",
          "name": "stdout",
          "text": [
            "Please enter the path to the CSV file: users.csv\n",
            "Report for users.csv generated successfully!\n",
            "-------------------\n",
            "Contents of users_report.txt:\n",
            "Total number of users: 50\n",
            "\n",
            "Email domain distribution:\n",
            "singledomain.com: 10\n",
            "sample.com: 6\n",
            "example.com: 4\n",
            "domain1.com: 4\n",
            "domain2.com: 3\n",
            "domain3.com: 3\n",
            "actor.com: 2\n",
            "company2.org: 1\n",
            "company9.com: 1\n",
            "company8.edu: 1\n",
            "company7.net: 1\n",
            "company6.org: 1\n",
            "company5.com: 1\n",
            "company4.edu: 1\n",
            "company3.net: 1\n",
            "inventor.com: 1\n",
            "company1.com: 1\n",
            "singer.com: 1\n",
            "tvshow.com: 1\n",
            "producer.com: 1\n",
            "musician.com: 1\n",
            "writer.com: 1\n",
            "detective.com: 1\n",
            "fictional.com: 1\n",
            "company10.org: 1\n",
            "\n",
            "-------------------\n"
          ]
        }
      ]
    }
  ]
}