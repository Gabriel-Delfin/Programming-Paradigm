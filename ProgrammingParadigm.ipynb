{
  "nbformat": 4,
  "nbformat_minor": 0,
  "metadata": {
    "colab": {
      "provenance": []
    },
    "kernelspec": {
      "name": "python3",
      "display_name": "Python 3"
    },
    "language_info": {
      "name": "python"
    }
  },
  "cells": [
    {
      "cell_type": "code",
      "execution_count": 18,
      "metadata": {
        "id": "QpUoSo3CcsFY"
      },
      "outputs": [],
      "source": [
        "import pandas as pd\n",
        "from io import StringIO\n",
        "\n",
        "# Helper function to create CSV files for testing\n",
        "def create_csv(content, file_name):\n",
        "    with open(file_name, 'w') as file:\n",
        "        file.write(content)"
      ]
    },
    {
      "cell_type": "code",
      "source": [
        "# Test case content\n",
        "test_cases = {\n",
        "    # Regular test case\n",
        "    'users.csv': \"\"\"username,email\n",
        "    GabrielDelfin,gabodelfin@tec.com\n",
        "    Benji,benjamin@teachertec.com\n",
        "    LuisPaulin,luigi@tec.com\"\"\",\n",
        "\n",
        "    # Test case for an empty document\n",
        "    'empty_users.csv': \"\"\"username,email\"\"\",\n",
        "\n",
        "    # Test case for multiple domains\n",
        "    'multiple_domains_users.csv': \"\"\"username,email\n",
        "    luis,luis@tecqro.com\n",
        "    gabriel,gabriel2@tecmty.com\n",
        "    delfin,delfin@tecgdl.com\n",
        "    paulin,paulin@tecqro.com\n",
        "    benji,benji@tecgdl.com\"\"\"\n",
        "}\n",
        "\n",
        "# Create CSV files for each test case\n",
        "for file_name, content in test_cases.items():\n",
        "    create_csv(content, file_name)\n"
      ],
      "metadata": {
        "id": "15N9_VlVdKbH"
      },
      "execution_count": 28,
      "outputs": []
    },
    {
      "cell_type": "code",
      "source": [
        "# Function to read CSV and extract data\n",
        "def read_and_extract_data(file_path):\n",
        "    # Read CSV file\n",
        "    df = pd.read_csv(file_path)\n",
        "\n",
        "    # Extract relevant columns\n",
        "    usernames = df['username']\n",
        "    emails = df['email']\n",
        "\n",
        "    return usernames, emails\n",
        "\n",
        "# Function to process data\n",
        "def process_data(usernames, emails):\n",
        "    # Count number of users\n",
        "    user_count = len(usernames)\n",
        "\n",
        "    # Analyze email domains\n",
        "    domain_counts = emails.str.split('@').str[1].value_counts()\n",
        "\n",
        "    return user_count, domain_counts\n",
        "\n",
        "# Function to generate report\n",
        "def generate_report(user_count, domain_counts, report_path):\n",
        "    with open(report_path, 'w') as file:\n",
        "        file.write(f\"Total number of users: {user_count}\\n\")\n",
        "        file.write(\"\\nEmail domain distribution:\\n\")\n",
        "        for domain, count in domain_counts.items():\n",
        "            file.write(f\"{domain}: {count}\\n\")\n",
        "\n",
        "# Main function to tie everything together\n",
        "def main(input_csv, report_path):\n",
        "    usernames, emails = read_and_extract_data(input_csv)\n",
        "    user_count, domain_counts = process_data(usernames, emails)\n",
        "    generate_report(user_count, domain_counts, report_path)\n",
        "    print(f\"Report for {input_csv} generated successfully!\")"
      ],
      "metadata": {
        "id": "7PDKgqBUda6W"
      },
      "execution_count": 29,
      "outputs": []
    },
    {
      "cell_type": "code",
      "source": [
        "# Run the main function for each test case\n",
        "for csv_file in test_cases.keys():\n",
        "    report_file = csv_file.replace('.csv', '_report.txt')\n",
        "    main(csv_file, report_file)\n",
        "\n",
        "# Verify contents of the generated reports\n",
        "for csv_file in test_cases.keys():\n",
        "    report_file = csv_file.replace('.csv', '_report.txt')\n",
        "    with open(report_file, 'r') as file:\n",
        "        print(f\"Contents of {report_file}:\")\n",
        "        print(file.read())\n",
        "        print(\"-----\")"
      ],
      "metadata": {
        "colab": {
          "base_uri": "https://localhost:8080/"
        },
        "id": "RzyYdbbEdfds",
        "outputId": "ecdbcb3f-e87f-479c-bb22-f2b84061183a"
      },
      "execution_count": 31,
      "outputs": [
        {
          "output_type": "stream",
          "name": "stdout",
          "text": [
            "Report for users.csv generated successfully!\n",
            "Report for empty_users.csv generated successfully!\n",
            "Report for multiple_domains_users.csv generated successfully!\n",
            "Contents of users_report.txt:\n",
            "Total number of users: 3\n",
            "\n",
            "Email domain distribution:\n",
            "tec.com: 2\n",
            "teachertec.com: 1\n",
            "\n",
            "-----\n",
            "Contents of empty_users_report.txt:\n",
            "Total number of users: 0\n",
            "\n",
            "Email domain distribution:\n",
            "\n",
            "-----\n",
            "Contents of multiple_domains_users_report.txt:\n",
            "Total number of users: 5\n",
            "\n",
            "Email domain distribution:\n",
            "tecqro.com: 2\n",
            "tecgdl.com: 2\n",
            "tecmty.com: 1\n",
            "\n",
            "-----\n"
          ]
        }
      ]
    }
  ]
}